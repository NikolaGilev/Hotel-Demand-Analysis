{
 "cells": [
  {
   "cell_type": "markdown",
   "metadata": {},
   "source": [
    "## Summary"
   ]
  },
  {
   "cell_type": "code",
   "execution_count": null,
   "metadata": {},
   "outputs": [],
   "source": [
    "import pandas as pd\n",
    "\n",
    "df=pd.DataFrame.from_dict(df)"
   ]
  },
  {
   "cell_type": "code",
   "execution_count": null,
   "metadata": {},
   "outputs": [],
   "source": [
    "print(\"Shape of the Dataframe: \", df.shape)"
   ]
  },
  {
   "cell_type": "code",
   "execution_count": null,
   "metadata": {},
   "outputs": [],
   "source": [
    "print(\"First 5 rows:\")\n",
    "print(df.head())"
   ]
  },
  {
   "cell_type": "code",
   "execution_count": null,
   "metadata": {},
   "outputs": [],
   "source": [
    "print(\"Descriptive Statistics:\")\n",
    "print(df.describe())"
   ]
  },
  {
   "cell_type": "code",
   "execution_count": null,
   "metadata": {},
   "outputs": [],
   "source": [
    "print(\"Missing Values:\")\n",
    "print(df.isnull().sum())"
   ]
  },
  {
   "cell_type": "markdown",
   "metadata": {},
   "source": [
    "### Calculate the mean price of each town"
   ]
  },
  {
   "cell_type": "code",
   "execution_count": null,
   "metadata": {},
   "outputs": [],
   "source": [
    "df_mean_price_by_town = df[\"price\"].groupby(df['town_location'].str.split().str[-1]).mean()\n",
    "df_mean_price_by_town.head()"
   ]
  },
  {
   "cell_type": "markdown",
   "metadata": {},
   "source": [
    "# Data Cleaning"
   ]
  },
  {
   "cell_type": "markdown",
   "metadata": {},
   "source": [
    "## Handling outliers\n",
    "### Visualize distribution and boxplots to identify outliers"
   ]
  },
  {
   "cell_type": "code",
   "execution_count": null,
   "metadata": {},
   "outputs": [],
   "source": [
    "import seaborn as sns\n",
    "import matplotlib.pyplot as plt"
   ]
  },
  {
   "cell_type": "code",
   "execution_count": null,
   "metadata": {},
   "outputs": [],
   "source": [
    "plt.figure(figsize=(10, 6))\n",
    "sns.boxplot(x=df['price'])\n",
    "plt.title('Boxplot of Price')\n",
    "plt.show()"
   ]
  },
  {
   "cell_type": "markdown",
   "metadata": {},
   "source": [
    "### Remove outliers"
   ]
  },
  {
   "cell_type": "code",
   "execution_count": null,
   "metadata": {},
   "outputs": [],
   "source": [
    "import numpy as np\n",
    "\n",
    "price_column = df['price']\n",
    "Q1 = price_column.quantile(0.25)\n",
    "Q3 = price_column.quantile(0.75)\n",
    "IQR = Q3 - Q1\n",
    "\n",
    "lower_bound = Q1 - 1.5 * IQR\n",
    "lower_bound = lower_bound if lower_bound > 0 else 0\n",
    "upper_bound = Q3 + 1.5 * IQR\n",
    "\n",
    "outliers = (price_column < lower_bound) | (price_column > upper_bound)\n",
    "price_mean = df['price'].mean()\n",
    "df = df[~outliers]"
   ]
  },
  {
   "cell_type": "code",
   "execution_count": null,
   "metadata": {},
   "outputs": [],
   "source": [
    "print(f\"Upper bound is: {upper_bound}, lower bound is: {lower_bound}. Mean is: {price_mean}\")"
   ]
  },
  {
   "cell_type": "code",
   "execution_count": null,
   "metadata": {},
   "outputs": [],
   "source": [
    "df['price'].mean()"
   ]
  },
  {
   "cell_type": "code",
   "execution_count": null,
   "metadata": {},
   "outputs": [],
   "source": [
    "import plotly.express as px\n",
    "\n",
    "if df_name == \"all\":\n",
    "    trace = []\n",
    "    colors = ['blue', 'red', 'green']\n",
    "    towns = df[\"town_location\"].unique()\n",
    "    for i, town in enumerate(towns):\n",
    "        trace.append(px.line(df[df['town_location']==town], x=\"date\", y=\"price\", title='Hotel Demands', line_group='date', labels={'price': town}))\n",
    "        trace[i].update_traces(line=dict(color=colors[i]))\n",
    "\n",
    "\n",
    "    fig = px.line(df[df['town_location']==towns[0]], x=\"date\", y=\"price\", title=f'Hotel Demands in {towns[0]} vs {towns[1]} vs {towns[2]}')\n",
    "\n",
    "    fig.add_traces(trace[1].data)\n",
    "    fig.add_traces(trace[2].data)\n",
    "\n",
    "    fig.show()"
   ]
  },
  {
   "cell_type": "code",
   "execution_count": null,
   "metadata": {},
   "outputs": [],
   "source": [
    "import plotly.express as px\n",
    "\n",
    "fig = px.line(df, x=\"date\", y=\"price\", title=f'Hotel Demands in {df_name}')\n",
    "fig.show()"
   ]
  },
  {
   "cell_type": "code",
   "execution_count": null,
   "metadata": {},
   "outputs": [],
   "source": [
    "plt.figure(figsize=(10, 6))\n",
    "plt.scatter(df['km_from_center'], df['price'], c=df['stars'], cmap='viridis', alpha=0.5, edgecolors='w')\n",
    "\n",
    "plt.xlabel('Distance from Center (km)')\n",
    "plt.ylabel('Price EUR')\n",
    "plt.title('Price vs Distance from Center')\n",
    "\n",
    "cbar = plt.colorbar()\n",
    "cbar.set_label('Stars')\n",
    "\n",
    "plt.show()"
   ]
  },
  {
   "cell_type": "code",
   "execution_count": null,
   "metadata": {},
   "outputs": [],
   "source": [
    "filtered_df = df[df['km_from_center'] < 10]\n",
    "plt.figure(figsize=(10, 6))\n",
    "plt.scatter(filtered_df['km_from_center'], filtered_df['price'], c=filtered_df['stars'], cmap='viridis', alpha=0.8, edgecolors='w')\n",
    "\n",
    "plt.xlabel('Distance from Center (km)')\n",
    "plt.ylabel('Price EUR')\n",
    "plt.title('Price vs Distance from Center')\n",
    "\n",
    "cbar = plt.colorbar()\n",
    "cbar.set_label('Stars')\n",
    "\n",
    "plt.show()"
   ]
  },
  {
   "cell_type": "markdown",
   "metadata": {},
   "source": [
    "## Binning\n",
    "Binning 'price' into categories (low, medium, high)."
   ]
  },
  {
   "cell_type": "code",
   "execution_count": null,
   "metadata": {},
   "outputs": [],
   "source": [
    "mean_price = df['price'].median()\n",
    "mean_price"
   ]
  },
  {
   "cell_type": "code",
   "execution_count": null,
   "metadata": {},
   "outputs": [],
   "source": [
    "bins = [0, 80, 140, np.inf]\n",
    "labels = ['Low', 'Medium', 'High']\n",
    "df['price_category'] = pd.cut(df['price'], bins=bins, labels=labels, right=False)\n",
    "print(df[['price', 'price_category']])"
   ]
  },
  {
   "cell_type": "code",
   "execution_count": null,
   "metadata": {},
   "outputs": [],
   "source": [
    "import seaborn as sns\n",
    "import matplotlib.pyplot as plt\n",
    "\n",
    "plt.figure(figsize=(8, 5))\n",
    "sns.countplot(x='price_category', data=df)\n",
    "plt.title('Distribution of Price Categories')\n",
    "\n",
    "print(\"\\nCount of Data Points in Each Category:\")\n",
    "print(df['price_category'].value_counts())\n",
    "\n",
    "plt.show()"
   ]
  },
  {
   "cell_type": "code",
   "execution_count": null,
   "metadata": {},
   "outputs": [],
   "source": [
    "df.groupby('price_category').agg({'price': ['mean', 'median'], 'stars': 'mean', 'avg_user_ratings': 'mean'})"
   ]
  },
  {
   "cell_type": "markdown",
   "metadata": {},
   "source": [
    "# EDA (Exploratory Data Analysis)\n",
    "## Visualize relationships between variables"
   ]
  },
  {
   "cell_type": "code",
   "execution_count": null,
   "metadata": {},
   "outputs": [],
   "source": [
    "plt.figure(figsize=(40, 10))\n",
    "df['km_from_center'] = pd.to_numeric(df['km_from_center'], errors='coerce')\n",
    "\n",
    "df_sorted = df.sort_values(by='km_from_center')\n",
    "\n",
    "sns.scatterplot(x='km_from_center', y='price', hue='stars', data=df_sorted)\n",
    "plt.title('Scatterplot of Price vs. Distance from Center with Star Rating')\n",
    "plt.show()"
   ]
  },
  {
   "cell_type": "markdown",
   "metadata": {},
   "source": [
    "### According to the Boxplot and EDA analysis we just did it is clear that there are some outliers we need to handle. Namely price and km_from_center"
   ]
  },
  {
   "cell_type": "code",
   "execution_count": null,
   "metadata": {},
   "outputs": [],
   "source": [
    "df = df[(df['price'] >= lower_bound) & (df['price'] <= upper_bound)]"
   ]
  },
  {
   "cell_type": "code",
   "execution_count": null,
   "metadata": {},
   "outputs": [],
   "source": [
    "threshold = 20\n",
    "df_filtered = df[df['km_from_center'] < threshold]"
   ]
  },
  {
   "cell_type": "code",
   "execution_count": null,
   "metadata": {},
   "outputs": [],
   "source": [
    "plt.figure(figsize=(20, 10))\n",
    "sns.scatterplot(x='km_from_center', y='price', hue='stars', data=df_filtered)\n",
    "plt.title('Scatterplot of Price vs. Distance from Center with Star Rating (Outliers Removed)')\n",
    "plt.show()"
   ]
  },
  {
   "cell_type": "markdown",
   "metadata": {},
   "source": [
    "## We can also see what the most frequent price is"
   ]
  },
  {
   "cell_type": "code",
   "execution_count": null,
   "metadata": {},
   "outputs": [],
   "source": [
    "import seaborn as sns\n",
    "import matplotlib.pyplot as plt\n",
    "\n",
    "plt.figure(figsize=(10, 6))\n",
    "sns.displot(df['price'], bins=30, kde=False, color='blue')\n",
    "plt.title('Distribution of Price without Outliers')\n",
    "plt.xlabel('Price')\n",
    "plt.ylabel('Frequency')\n",
    "plt.show()"
   ]
  },
  {
   "cell_type": "code",
   "execution_count": null,
   "metadata": {},
   "outputs": [],
   "source": [
    "import seaborn as sns\n",
    "import matplotlib.pyplot as plt\n",
    "\n",
    "df['date'] = pd.to_datetime(df['date'])\n",
    "df['month'] = df['date'].dt.strftime('%B')\n",
    "\n",
    "plt.figure(figsize=(14, 8))\n",
    "sns.set(style=\"whitegrid\")\n",
    "\n",
    "sns.lineplot(x='month', y='price',hue='town_location', data=df, sort=False, marker='o', color='red')\n",
    "plt.title('Price vs. Month')\n",
    "plt.xlabel('Month')\n",
    "plt.ylabel('Price')\n",
    "plt.show()\n"
   ]
  },
  {
   "cell_type": "code",
   "execution_count": null,
   "metadata": {},
   "outputs": [],
   "source": [
    "import seaborn as sns\n",
    "import matplotlib.pyplot as plt\n",
    "\n",
    "plt.figure(figsize=(14, 8))\n",
    "sns.set(style=\"whitegrid\")\n",
    "\n",
    "sns.violinplot(x='town_location', y='price', hue='stars', data=df, palette='viridis', inner='quartile')\n",
    "plt.title('Price Distribution by Location and Price')\n",
    "plt.xlabel('Location')\n",
    "plt.ylabel('Price')\n",
    "plt.xticks(rotation=25, ha='right') \n",
    "plt.legend(title='Stars', bbox_to_anchor=(1.05, 1), loc='upper left') \n",
    "plt.show()\n"
   ]
  },
  {
   "cell_type": "code",
   "execution_count": null,
   "metadata": {},
   "outputs": [],
   "source": [
    "df.to_csv('hotels_preprocessed_'+ df_name +'.csv', index=False)"
   ]
  }
 ],
 "metadata": {
  "kernelspec": {
   "display_name": "uni-proj-USdh_t1J-py3.11",
   "language": "python",
   "name": "python3"
  },
  "language_info": {
   "codemirror_mode": {
    "name": "ipython",
    "version": 3
   },
   "file_extension": ".py",
   "mimetype": "text/x-python",
   "name": "python",
   "nbconvert_exporter": "python",
   "pygments_lexer": "ipython3",
   "version": "3.11.4"
  }
 },
 "nbformat": 4,
 "nbformat_minor": 2
}
